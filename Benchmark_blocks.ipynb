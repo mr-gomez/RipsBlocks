{
 "cells": [
  {
   "cell_type": "code",
   "execution_count": null,
   "metadata": {},
   "outputs": [],
   "source": [
    "# To reload modified python modules\n",
    "%load_ext autoreload\n",
    "%autoreload 2"
   ]
  },
  {
   "cell_type": "code",
   "execution_count": null,
   "metadata": {},
   "outputs": [],
   "source": [
    "import numpy as np\n",
    "\n",
    "from ripser import ripser\n",
    "import functions.rips_blocks as rips_blocks\n",
    "\n",
    "from scipy.spatial.distance import squareform, cdist\n",
    "\n",
    "import matplotlib.pyplot as plt\n",
    "\n",
    "from time import time\n",
    "from datetime import timedelta\n",
    "\n",
    "import sys"
   ]
  },
  {
   "cell_type": "markdown",
   "metadata": {},
   "source": [
    "# Functions"
   ]
  },
  {
   "cell_type": "code",
   "execution_count": null,
   "metadata": {},
   "outputs": [],
   "source": [
    "def display_time(seconds):\n",
    "    if seconds == np.round(seconds):\n",
    "        seconds += 0.001\n",
    "    return str(timedelta(seconds=seconds))[:-4]"
   ]
  },
  {
   "cell_type": "code",
   "execution_count": null,
   "metadata": {},
   "outputs": [],
   "source": [
    "# Computes the metric wedge of two distance matrices by pasting the\n",
    "# elements i1 from dm1 and i2 from dm2\n",
    "def metric_wedge(dm1, dm2, i1=0, i2=0, include_wedge=False):\n",
    "    row1 = dm1[i1,:].reshape(-1,1)\n",
    "    row2 = dm2[i2,:].reshape(1,-1)\n",
    "\n",
    "    # The distance between points i in dm1 and j in dm2\n",
    "    # is dm1[i,i1] + dm[i2,j]\n",
    "    dists_inter = row1 + row2\n",
    "\n",
    "    # Paste blocks into new distance matrix\n",
    "    dm_wedge = np.block([[dm1, dists_inter], [dists_inter.T, dm2]])\n",
    "\n",
    "    # Remove duplicated row/column\n",
    "    i_wedge = dm1.shape[0] + i2\n",
    "    dm_wedge = np.delete(dm_wedge, i_wedge, axis=0)\n",
    "    dm_wedge = np.delete(dm_wedge, i_wedge, axis=1)\n",
    "\n",
    "    # Remove wedge point (if it isn't wanted)\n",
    "    if not include_wedge:\n",
    "        i_wedge = i1\n",
    "        dm_wedge = np.delete(dm_wedge, i_wedge, axis=0)\n",
    "        dm_wedge = np.delete(dm_wedge, i_wedge, axis=1)\n",
    "\n",
    "    return dm_wedge"
   ]
  },
  {
   "cell_type": "markdown",
   "metadata": {},
   "source": [
    "# Random blocks"
   ]
  },
  {
   "cell_type": "code",
   "execution_count": null,
   "metadata": {},
   "outputs": [],
   "source": [
    "max_blocks = 15\n",
    "block_sz = 20\n",
    "\n",
    "seed = 304\n",
    "rng = np.random.default_rng(seed)\n",
    "\n",
    "Xs_all = []\n",
    "dms_all = []\n",
    "for n_blocks in range(1,max_blocks+1):\n",
    "    # Generate subsets of 3-sphere and compute their distance matrices\n",
    "    dim = 3\n",
    "    X_blocks = []\n",
    "    dms_blocks = []\n",
    "    for i in range(n_blocks):\n",
    "        # Note: we add 2 more points to account for the wedge point being deleted\n",
    "        X0 = rng.random((block_sz+2,dim+1))\n",
    "        norm = np.linalg.norm(X0, axis=1).reshape(-1,1)\n",
    "        X0 = X0/norm\n",
    "\n",
    "        # Reduce the size of the initial matrix\n",
    "        if i==0:\n",
    "            X0 = X0[:-2,:]\n",
    "\n",
    "        # Compute distance matrix and round to 2 decimals\n",
    "        scale = (i+1)**2         # Rescale to increase range of distances\n",
    "        dm = scale*cdist(X0,X0)\n",
    "        dm = np.round(dm,2)\n",
    "        \n",
    "        X_blocks.append(X0)\n",
    "        dms_blocks.append(dm)\n",
    "\n",
    "    # Paste the blocks\n",
    "    # I'll do a metric wedge of the distance matrices and then remove\n",
    "    # the wedge points so that the resulting metric space has a block\n",
    "    # structure without being a metric wedge\n",
    "    dm_big = dms_blocks[0]\n",
    "\n",
    "    for idx in range(1,len(dms_blocks)):\n",
    "        dm = dms_blocks[idx]\n",
    "\n",
    "        i1 = dm_big.shape[0]-1\n",
    "        dm_big = metric_wedge(dm_big, dm, i1=i1, include_wedge = False)\n",
    "\n",
    "    N = dm_big.shape[0]\n",
    "    print(f'{n_blocks}/{max_blocks} Num. points: {N}')\n",
    "\n",
    "    Xs_all.append(X_blocks)\n",
    "    dms_all.append(dm_big)"
   ]
  },
  {
   "cell_type": "code",
   "execution_count": null,
   "metadata": {},
   "outputs": [],
   "source": [
    "for i in range(n_blocks):\n",
    "    fig, ax = plt.subplots(1,1,figsize=(3,3))\n",
    "    im = ax.imshow(dms_blocks[i])\n",
    "    plt.colorbar(im, ax=ax)"
   ]
  },
  {
   "cell_type": "code",
   "execution_count": null,
   "metadata": {},
   "outputs": [],
   "source": [
    "maxdim = 3\n",
    "time_blocks = np.zeros((maxdim, max_blocks))\n",
    "time_ripser = np.zeros((maxdim, max_blocks))\n",
    "same_diagrams = np.zeros((maxdim, max_blocks), dtype=bool)\n",
    "\n",
    "for i in range(max_blocks):\n",
    "    dm = dms_all[i]\n",
    "    print(' -------------------------------------- ')\n",
    "    print(f' n_points: {dm.shape[0]} ({i+1} blocks)')\n",
    "    print(' -------------------------------------- ')\n",
    "\n",
    "    for k in range(1, maxdim+1):\n",
    "        print(f' ---- dim: {k} ---- ')\n",
    "        \n",
    "        # First decompose into blocks, then compute homology\n",
    "        time_start_blocks = time()\n",
    "        diagrams_blocks = rips_blocks.ripser_with_blocks(dm, file_name='dm_rand', maxdim=k)\n",
    "        time_end_blocks = time()\n",
    "\n",
    "        time_blocks[k-1, i] = time_end_blocks - time_start_blocks\n",
    "        print('Time with blocks:', display_time(time_end_blocks-time_start_blocks))\n",
    "        sys.stdout.flush()\n",
    "\n",
    "        # Compute homology directly\n",
    "        time_start_default = time()\n",
    "        diagrams_full = ripser(dm, maxdim=k, distance_matrix=True)['dgms']\n",
    "        time_end_default = time()                \n",
    "\n",
    "        time_ripser[k-1, i] = time_end_default - time_start_default\n",
    "        print('Time whole:', display_time(time_end_default-time_start_default))\n",
    "        sys.stdout.flush()\n",
    "        # print()\n",
    "\n",
    "        # Sort Ripser diagrams\n",
    "        for idx in range(k+1):\n",
    "            diagrams_full[idx] = rips_blocks.sort_diagrams(diagrams_full[idx])\n",
    "\n",
    "        # Verify that we got the same diagrams\n",
    "        check = True\n",
    "        for dim in range(k+1):\n",
    "            check = check and np.array_equal(diagrams_blocks[dim], diagrams_full[dim])\n",
    "        same_diagrams[k-1, i-1] = check\n",
    "        print('Same diagrams:', check)\n",
    "        print()"
   ]
  },
  {
   "cell_type": "code",
   "execution_count": null,
   "metadata": {},
   "outputs": [],
   "source": [
    "# Save time results\n",
    "np.savez('benchmark_time.npz',\n",
    "         # Parameters\n",
    "         maxdim=maxdim,\n",
    "         max_blocks=max_blocks,\n",
    "         block_sz=block_sz,\n",
    "         seed=seed,\n",
    "         # Data\n",
    "         # Xs_all=Xs_all,\n",
    "         # dms_all=dms_all,\n",
    "         # Results\n",
    "         time_blocks=time_blocks,\n",
    "         time_ripser=time_ripser,\n",
    "         same_diagrams=same_diagrams)"
   ]
  },
  {
   "cell_type": "code",
   "execution_count": null,
   "metadata": {},
   "outputs": [],
   "source": [
    "# Load results\n",
    "data = np.load('benchmark_time.npz')\n",
    "maxdim = data['maxdim']\n",
    "max_blocks = data['max_blocks']\n",
    "time_blocks = data['time_blocks']\n",
    "time_ripser = data['time_ripser']\n",
    "same_diagrams = data['same_diagrams']\n",
    "\n",
    "# Display global results\n",
    "print('Total time (blocks):', np.sum(time_blocks))\n",
    "print('Total time (Ripser):', np.sum(time_ripser))\n",
    "\n",
    "total_time = np.sum(time_blocks) + np.sum(time_ripser)\n",
    "print('Total time -- all:', display_time(total_time))\n",
    "print('All diagrams agree:', np.all(same_diagrams))"
   ]
  },
  {
   "cell_type": "code",
   "execution_count": null,
   "metadata": {},
   "outputs": [],
   "source": [
    "fig, axes = plt.subplots(1,3, figsize=(18,5), sharex=True, sharey=True)\n",
    "block_range = np.arange(1, max_blocks+1)\n",
    "\n",
    "for k in range(maxdim):\n",
    "    axes[k].plot(block_range, time_blocks[k,:], label='Blocks', marker='.', markersize=10)\n",
    "    axes[k].plot(block_range, time_ripser[k,:], label='Ripser', marker='.', markersize=10)\n",
    "    axes[k].set_title(f'Dim {k+1}')\n",
    "    axes[k].legend()\n",
    "    axes[k].set_xlabel('Number of blocks')\n",
    "    axes[k].set_ylabel('Time (s)')\n",
    "    axes[k].set_yscale('log')\n",
    "    axes[k].grid()\n",
    "\n",
    "# Set x-ticks\n",
    "xticks = np.arange(0, max_blocks+1, 3)\n",
    "axes[0].set_xticks(xticks)\n",
    "\n",
    "# Change font size\n",
    "plt.rcParams.update({'font.size': 14})\n",
    "\n",
    "# Save figure\n",
    "latex_dir = '/home/mrgomez/Documents/OSU/My-Papers/Split-Decompositions/figures'\n",
    "plt.savefig(f'{latex_dir}/BloDec_vs_Ripser.pdf', dpi=300, bbox_inches='tight')"
   ]
  },
  {
   "cell_type": "code",
   "execution_count": null,
   "metadata": {},
   "outputs": [],
   "source": [
    "plt.plot(time_blocks.T)\n",
    "plt.yscale('log')\n",
    "plt.legend([1,2,3])"
   ]
  },
  {
   "cell_type": "code",
   "execution_count": null,
   "metadata": {},
   "outputs": [],
   "source": []
  }
 ],
 "metadata": {
  "kernelspec": {
   "display_name": "tda",
   "language": "python",
   "name": "python3"
  },
  "language_info": {
   "codemirror_mode": {
    "name": "ipython",
    "version": 3
   },
   "file_extension": ".py",
   "mimetype": "text/x-python",
   "name": "python",
   "nbconvert_exporter": "python",
   "pygments_lexer": "ipython3",
   "version": "3.8.20"
  }
 },
 "nbformat": 4,
 "nbformat_minor": 2
}
